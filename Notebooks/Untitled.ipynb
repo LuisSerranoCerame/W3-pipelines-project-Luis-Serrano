{
 "cells": [
  {
   "cell_type": "code",
   "execution_count": 2,
   "id": "44349cf9",
   "metadata": {},
   "outputs": [],
   "source": [
    "import requests \n",
    "import json\n",
    "import os\n",
    "from dotenv import load_dotenv\n",
    "import pandas as pd\n",
    "from pandas import json_normalize\n",
    "import time"
   ]
  },
  {
   "cell_type": "code",
   "execution_count": 30,
   "id": "bd2ff315",
   "metadata": {},
   "outputs": [],
   "source": [
    "cardanito = \"https://api.coincap.io/v2/assets/cardano/history?interval=d1\""
   ]
  },
  {
   "cell_type": "code",
   "execution_count": 31,
   "id": "3bcd70e8",
   "metadata": {},
   "outputs": [],
   "source": [
    "cardano = requests.get(cardanito)"
   ]
  },
  {
   "cell_type": "code",
   "execution_count": 32,
   "id": "49ac8e2d",
   "metadata": {},
   "outputs": [
    {
     "data": {
      "text/plain": [
       "<Response [200]>"
      ]
     },
     "execution_count": 32,
     "metadata": {},
     "output_type": "execute_result"
    }
   ],
   "source": [
    "cardano"
   ]
  },
  {
   "cell_type": "markdown",
   "id": "5d2df524",
   "metadata": {},
   "source": [
    "Comprobamos que tenemos acceso a la API. BIEN."
   ]
  },
  {
   "cell_type": "code",
   "execution_count": 36,
   "id": "18da321f",
   "metadata": {},
   "outputs": [],
   "source": [
    "#print(cardano.content)"
   ]
  },
  {
   "cell_type": "code",
   "execution_count": 41,
   "id": "2ac7b56f",
   "metadata": {},
   "outputs": [
    {
     "ename": "AttributeError",
     "evalue": "'Response' object has no attribute 'keys'",
     "output_type": "error",
     "traceback": [
      "\u001b[0;31m---------------------------------------------------------------------------\u001b[0m",
      "\u001b[0;31mAttributeError\u001b[0m                            Traceback (most recent call last)",
      "\u001b[0;32m<ipython-input-41-6d0ed3f537f7>\u001b[0m in \u001b[0;36m<module>\u001b[0;34m\u001b[0m\n\u001b[0;32m----> 1\u001b[0;31m \u001b[0mcardano\u001b[0m\u001b[0;34m.\u001b[0m\u001b[0mkeys\u001b[0m\u001b[0;34m(\u001b[0m\u001b[0;34m)\u001b[0m\u001b[0;34m\u001b[0m\u001b[0;34m\u001b[0m\u001b[0m\n\u001b[0m",
      "\u001b[0;31mAttributeError\u001b[0m: 'Response' object has no attribute 'keys'"
     ]
    }
   ],
   "source": [
    "cardano.keys()"
   ]
  },
  {
   "cell_type": "code",
   "execution_count": 45,
   "id": "49e0b2d8",
   "metadata": {},
   "outputs": [
    {
     "ename": "TypeError",
     "evalue": "'Response' object is not callable",
     "output_type": "error",
     "traceback": [
      "\u001b[0;31m---------------------------------------------------------------------------\u001b[0m",
      "\u001b[0;31mTypeError\u001b[0m                                 Traceback (most recent call last)",
      "\u001b[0;32m<ipython-input-45-0fc20af742d7>\u001b[0m in \u001b[0;36m<module>\u001b[0;34m\u001b[0m\n\u001b[0;32m----> 1\u001b[0;31m \u001b[0mdfcardano\u001b[0m \u001b[0;34m=\u001b[0m \u001b[0mpd\u001b[0m\u001b[0;34m.\u001b[0m\u001b[0mDataFrame\u001b[0m\u001b[0;34m(\u001b[0m\u001b[0mcardano\u001b[0m\u001b[0;34m(\u001b[0m\u001b[0;36m0\u001b[0m\u001b[0;34m)\u001b[0m\u001b[0;34m[\u001b[0m\u001b[0;34m\"data\"\u001b[0m\u001b[0;34m]\u001b[0m\u001b[0;34m)\u001b[0m\u001b[0;34m\u001b[0m\u001b[0;34m\u001b[0m\u001b[0m\n\u001b[0m",
      "\u001b[0;31mTypeError\u001b[0m: 'Response' object is not callable"
     ]
    }
   ],
   "source": [
    "dfcardano = pd.DataFrame(cardano)"
   ]
  },
  {
   "cell_type": "code",
   "execution_count": 44,
   "id": "2dcfc26b",
   "metadata": {},
   "outputs": [
    {
     "data": {
      "text/html": [
       "<div>\n",
       "<style scoped>\n",
       "    .dataframe tbody tr th:only-of-type {\n",
       "        vertical-align: middle;\n",
       "    }\n",
       "\n",
       "    .dataframe tbody tr th {\n",
       "        vertical-align: top;\n",
       "    }\n",
       "\n",
       "    .dataframe thead th {\n",
       "        text-align: right;\n",
       "    }\n",
       "</style>\n",
       "<table border=\"1\" class=\"dataframe\">\n",
       "  <thead>\n",
       "    <tr style=\"text-align: right;\">\n",
       "      <th></th>\n",
       "      <th>0</th>\n",
       "    </tr>\n",
       "  </thead>\n",
       "  <tbody>\n",
       "    <tr>\n",
       "      <th>0</th>\n",
       "      <td>b'{\"data\":[{\"priceUsd\":\"0.10501859749266992916...</td>\n",
       "    </tr>\n",
       "    <tr>\n",
       "      <th>1</th>\n",
       "      <td>b'088542931\",\"time\":1604966400000,\"date\":\"2020...</td>\n",
       "    </tr>\n",
       "    <tr>\n",
       "      <th>2</th>\n",
       "      <td>b'te\":\"2020-11-11T00:00:00.000Z\"},{\"priceUsd\":...</td>\n",
       "    </tr>\n",
       "    <tr>\n",
       "      <th>3</th>\n",
       "      <td>b'riceUsd\":\"0.10617635935918135653\",\"time\":160...</td>\n",
       "    </tr>\n",
       "    <tr>\n",
       "      <th>4</th>\n",
       "      <td>b'time\":1605312000000,\"date\":\"2020-11-14T00:00...</td>\n",
       "    </tr>\n",
       "    <tr>\n",
       "      <th>...</th>\n",
       "      <td>...</td>\n",
       "    </tr>\n",
       "    <tr>\n",
       "      <th>252</th>\n",
       "      <td>b'e\":\"2021-11-01T00:00:00.000Z\"},{\"priceUsd\":\"...</td>\n",
       "    </tr>\n",
       "    <tr>\n",
       "      <th>253</th>\n",
       "      <td>b'sd\":\"2.0525260498199034\",\"time\":163589760000...</td>\n",
       "    </tr>\n",
       "    <tr>\n",
       "      <th>254</th>\n",
       "      <td>b'000000,\"date\":\"2021-11-04T00:00:00.000Z\"},{\"...</td>\n",
       "    </tr>\n",
       "    <tr>\n",
       "      <th>255</th>\n",
       "      <td>b'\"},{\"priceUsd\":\"1.9911575282764272\",\"time\":1...</td>\n",
       "    </tr>\n",
       "    <tr>\n",
       "      <th>256</th>\n",
       "      <td>b'me\":1636243200000,\"date\":\"2021-11-07T00:00:0...</td>\n",
       "    </tr>\n",
       "  </tbody>\n",
       "</table>\n",
       "<p>257 rows × 1 columns</p>\n",
       "</div>"
      ],
      "text/plain": [
       "                                                     0\n",
       "0    b'{\"data\":[{\"priceUsd\":\"0.10501859749266992916...\n",
       "1    b'088542931\",\"time\":1604966400000,\"date\":\"2020...\n",
       "2    b'te\":\"2020-11-11T00:00:00.000Z\"},{\"priceUsd\":...\n",
       "3    b'riceUsd\":\"0.10617635935918135653\",\"time\":160...\n",
       "4    b'time\":1605312000000,\"date\":\"2020-11-14T00:00...\n",
       "..                                                 ...\n",
       "252  b'e\":\"2021-11-01T00:00:00.000Z\"},{\"priceUsd\":\"...\n",
       "253  b'sd\":\"2.0525260498199034\",\"time\":163589760000...\n",
       "254  b'000000,\"date\":\"2021-11-04T00:00:00.000Z\"},{\"...\n",
       "255  b'\"},{\"priceUsd\":\"1.9911575282764272\",\"time\":1...\n",
       "256  b'me\":1636243200000,\"date\":\"2021-11-07T00:00:0...\n",
       "\n",
       "[257 rows x 1 columns]"
      ]
     },
     "execution_count": 44,
     "metadata": {},
     "output_type": "execute_result"
    }
   ],
   "source": [
    "dfcardano"
   ]
  }
 ],
 "metadata": {
  "kernelspec": {
   "display_name": "Python 3",
   "language": "python",
   "name": "python3"
  },
  "language_info": {
   "codemirror_mode": {
    "name": "ipython",
    "version": 3
   },
   "file_extension": ".py",
   "mimetype": "text/x-python",
   "name": "python",
   "nbconvert_exporter": "python",
   "pygments_lexer": "ipython3",
   "version": "3.8.8"
  }
 },
 "nbformat": 4,
 "nbformat_minor": 5
}
